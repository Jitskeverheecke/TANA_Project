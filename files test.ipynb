{
 "cells": [
  {
   "cell_type": "code",
   "execution_count": 1,
   "id": "23660bfa",
   "metadata": {},
   "outputs": [],
   "source": [
    "import h5py"
   ]
  },
  {
   "cell_type": "code",
   "execution_count": 16,
   "id": "9e9874ec",
   "metadata": {},
   "outputs": [],
   "source": [
    "data = h5py.File('cutout_344137.hdf5','r')"
   ]
  },
  {
   "cell_type": "code",
   "execution_count": 19,
   "id": "b45f0ab9",
   "metadata": {},
   "outputs": [
    {
     "data": {
      "text/plain": [
       "<KeysViewHDF5 ['Header', 'PartType1']>"
      ]
     },
     "execution_count": 19,
     "metadata": {},
     "output_type": "execute_result"
    }
   ],
   "source": [
    "data.keys()"
   ]
  },
  {
   "cell_type": "code",
   "execution_count": 15,
   "id": "d7f6e523",
   "metadata": {},
   "outputs": [
    {
     "data": {
      "text/plain": [
       "<KeysViewHDF5 []>"
      ]
     },
     "execution_count": 15,
     "metadata": {},
     "output_type": "execute_result"
    }
   ],
   "source": [
    "data['Header'].keys()"
   ]
  },
  {
   "cell_type": "code",
   "execution_count": 5,
   "id": "c72b32cb",
   "metadata": {},
   "outputs": [
    {
     "data": {
      "text/plain": [
       "<KeysViewHDF5 ['Coordinates', 'ParticleIDs', 'Potential', 'SubfindDMDensity', 'SubfindDensity', 'SubfindHsml', 'SubfindVelDisp', 'Velocities']>"
      ]
     },
     "execution_count": 5,
     "metadata": {},
     "output_type": "execute_result"
    }
   ],
   "source": [
    "data['PartType1'].keys()"
   ]
  },
  {
   "cell_type": "code",
   "execution_count": 6,
   "id": "bc0f522c",
   "metadata": {},
   "outputs": [
    {
     "data": {
      "text/plain": [
       "<HDF5 dataset \"Coordinates\": shape (268525, 3), type \"<f8\">"
      ]
     },
     "execution_count": 6,
     "metadata": {},
     "output_type": "execute_result"
    }
   ],
   "source": [
    "data['PartType1']['Coordinates']"
   ]
  },
  {
   "cell_type": "code",
   "execution_count": 7,
   "id": "1191e1cf",
   "metadata": {},
   "outputs": [
    {
     "data": {
      "text/plain": [
       "['a_scaling',\n",
       " 'h_scaling',\n",
       " 'length_scaling',\n",
       " 'mass_scaling',\n",
       " 'to_cgs',\n",
       " 'velocity_scaling']"
      ]
     },
     "execution_count": 7,
     "metadata": {},
     "output_type": "execute_result"
    }
   ],
   "source": [
    "list(data['PartType1']['Coordinates'].attrs)"
   ]
  },
  {
   "cell_type": "code",
   "execution_count": 8,
   "id": "81fa34b6",
   "metadata": {},
   "outputs": [
    {
     "data": {
      "text/plain": [
       "array([[ 3513.58629858, 18135.43560775, 13033.63899422],\n",
       "       [ 3513.68575398, 18135.19581946, 13033.53707777],\n",
       "       [ 3513.65631593, 18135.25617358, 13033.6167714 ],\n",
       "       ...,\n",
       "       [ 3558.64926772, 18168.06287764, 13026.44102234],\n",
       "       [ 3500.46194437, 18102.38602752, 13090.12704697],\n",
       "       [ 3561.27095091, 18151.83762453, 13068.8706097 ]],\n",
       "      shape=(268525, 3))"
      ]
     },
     "execution_count": 8,
     "metadata": {},
     "output_type": "execute_result"
    }
   ],
   "source": [
    "data['PartType1']['Coordinates'][:]"
   ]
  },
  {
   "cell_type": "code",
   "execution_count": 20,
   "id": "8c6e312a",
   "metadata": {},
   "outputs": [
    {
     "data": {
      "text/plain": [
       "<HDF5 dataset \"Potential\": shape (268525,), type \"<f4\">"
      ]
     },
     "execution_count": 20,
     "metadata": {},
     "output_type": "execute_result"
    }
   ],
   "source": [
    "data['PartType1']['Potential']"
   ]
  },
  {
   "cell_type": "code",
   "execution_count": 9,
   "id": "8235d8be",
   "metadata": {},
   "outputs": [
    {
     "data": {
      "text/plain": [
       "['a_scaling',\n",
       " 'h_scaling',\n",
       " 'length_scaling',\n",
       " 'mass_scaling',\n",
       " 'to_cgs',\n",
       " 'velocity_scaling']"
      ]
     },
     "execution_count": 9,
     "metadata": {},
     "output_type": "execute_result"
    }
   ],
   "source": [
    "list(data['PartType1']['Potential'].attrs)"
   ]
  },
  {
   "cell_type": "code",
   "execution_count": 21,
   "id": "b8035912",
   "metadata": {},
   "outputs": [
    {
     "data": {
      "text/plain": [
       "<HDF5 dataset \"SubfindDMDensity\": shape (268525,), type \"<f4\">"
      ]
     },
     "execution_count": 21,
     "metadata": {},
     "output_type": "execute_result"
    }
   ],
   "source": [
    "data['PartType1']['SubfindDMDensity']"
   ]
  },
  {
   "cell_type": "code",
   "execution_count": 26,
   "id": "db66b7af",
   "metadata": {},
   "outputs": [
    {
     "data": {
      "text/plain": [
       "<HDF5 dataset \"SubfindHsml\": shape (268525,), type \"<f4\">"
      ]
     },
     "execution_count": 26,
     "metadata": {},
     "output_type": "execute_result"
    }
   ],
   "source": [
    "data['PartType1']['SubfindHsml']"
   ]
  },
  {
   "cell_type": "code",
   "execution_count": null,
   "id": "df552972",
   "metadata": {},
   "outputs": [],
   "source": []
  }
 ],
 "metadata": {
  "kernelspec": {
   "display_name": "TANA2025",
   "language": "python",
   "name": "python3"
  },
  "language_info": {
   "codemirror_mode": {
    "name": "ipython",
    "version": 3
   },
   "file_extension": ".py",
   "mimetype": "text/x-python",
   "name": "python",
   "nbconvert_exporter": "python",
   "pygments_lexer": "ipython3",
   "version": "3.10.15"
  }
 },
 "nbformat": 4,
 "nbformat_minor": 5
}
